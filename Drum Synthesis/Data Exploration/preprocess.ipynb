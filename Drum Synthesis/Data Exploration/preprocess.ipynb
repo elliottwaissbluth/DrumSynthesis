{
 "metadata": {
  "language_info": {
   "codemirror_mode": {
    "name": "ipython",
    "version": 3
   },
   "file_extension": ".py",
   "mimetype": "text/x-python",
   "name": "python",
   "nbconvert_exporter": "python",
   "pygments_lexer": "ipython3",
   "version": "3.8.6-final"
  },
  "orig_nbformat": 2,
  "kernelspec": {
   "name": "python3",
   "display_name": "Python 3.8.6 64-bit",
   "metadata": {
    "interpreter": {
     "hash": "1131efc7635b497546d7e8fbc76ad9d1f9d5d5d7857bcde935d6feea39d08984"
    }
   }
  }
 },
 "nbformat": 4,
 "nbformat_minor": 2,
 "cells": [
  {
   "cell_type": "code",
   "execution_count": 1,
   "metadata": {},
   "outputs": [],
   "source": [
    "from pathlib import Path\n",
    "import os\n",
    "import librosa\n",
    "import librosa.display\n",
    "import numpy as np\n",
    "import matplotlib.pyplot as plt\n",
    "import sounddevice as sd\n",
    "from sklearn.preprocessing import MinMaxScaler\n",
    "import cvxpy as cp\n",
    "import pickle\n",
    "\n",
    "samples_path = Path.cwd() / 'samples_tensor.npy'\n",
    "samples = np.load(samples_path)\n",
    "\n",
    "# Shuffle samples\n",
    "np.random.shuffle(samples)"
   ]
  },
  {
   "cell_type": "code",
   "execution_count": 2,
   "metadata": {},
   "outputs": [],
   "source": [
    "# Split into train, val, test, and src\n",
    "src = samples[0:50]\n",
    "\n",
    "# val and test each get 10% training data\n",
    "split_num = int((samples.shape[0] - 50) / 10)\n",
    "\n",
    "train = samples[50:-2*split_num]\n",
    "val = samples[-2*split_num:-split_num]\n",
    "test = samples[-split_num:]"
   ]
  },
  {
   "cell_type": "code",
   "execution_count": 3,
   "metadata": {},
   "outputs": [],
   "source": [
    "s_path = r'X:\\DS Training Data\\samples'\n",
    "stft_path = r'X:\\DS Training Data\\log stft samples'\n",
    "\n",
    "# Save the sample data into the vanilla samples folder\n",
    "np.save(s_path + '\\\\src.npy', src)\n",
    "np.save(s_path + '\\\\train.npy', train)\n",
    "np.save(s_path + '\\\\val.npy', val)\n",
    "np.save(s_path + '\\\\test.npy', test)"
   ]
  },
  {
   "cell_type": "code",
   "execution_count": 4,
   "metadata": {},
   "outputs": [
    {
     "output_type": "stream",
     "name": "stderr",
     "text": [
      "C:\\Users\\ewais\\AppData\\Local\\Programs\\Python\\Python38\\lib\\site-packages\\librosa\\core\\spectrum.py:1641: UserWarning: amplitude_to_db was called on complex input so phase information will be discarded. To suppress this warning, call amplitude_to_db(np.abs(S)) instead.\n  warnings.warn(\n"
     ]
    }
   ],
   "source": [
    "# Take the log stft of each sample\n",
    "\n",
    "stft_src = []\n",
    "stft_train = []\n",
    "stft_val = []\n",
    "stft_test = []\n",
    "\n",
    "for i in range(src.shape[0]):\n",
    "    stft_src.append(librosa.amplitude_to_db(librosa.stft(src[i]), ref=np.max))\n",
    "for i in range(train.shape[0]):\n",
    "    stft_train.append(librosa.amplitude_to_db(librosa.stft(train[i]), ref=np.max))\n",
    "for i in range(val.shape[0]):\n",
    "    stft_val.append(librosa.amplitude_to_db(librosa.stft(val[i]), ref=np.max))\n",
    "for i in range(test.shape[0]):\n",
    "    stft_test.append(librosa.amplitude_to_db(librosa.stft(test[i]), ref=np.max))\n",
    "\n",
    "stft_src = np.array(stft_src)\n",
    "stft_train = np.array(stft_train)\n",
    "stft_val = np.array(stft_val)\n",
    "stft_test = np.array(stft_test)\n",
    "    "
   ]
  },
  {
   "cell_type": "code",
   "execution_count": 5,
   "metadata": {},
   "outputs": [],
   "source": [
    "np.save(stft_path + '\\\\src.npy', stft_src)\n",
    "np.save(stft_path + '\\\\train.npy', stft_train)\n",
    "np.save(stft_path + '\\\\val.npy', stft_val)\n",
    "np.save(stft_path + '\\\\test.npy', stft_test)"
   ]
  }
 ]
}